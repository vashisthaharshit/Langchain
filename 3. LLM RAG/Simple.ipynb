{
 "cells": [
  {
   "cell_type": "code",
   "execution_count": 1,
   "metadata": {},
   "outputs": [],
   "source": [
    "from langchain_community.document_loaders import PyPDFLoader"
   ]
  },
  {
   "cell_type": "code",
   "execution_count": 3,
   "metadata": {},
   "outputs": [],
   "source": [
    "loader = PyPDFLoader('../data/Meta AI.pdf')"
   ]
  },
  {
   "cell_type": "code",
   "execution_count": 4,
   "metadata": {},
   "outputs": [],
   "source": [
    "documents = loader.load()"
   ]
  },
  {
   "cell_type": "code",
   "execution_count": 5,
   "metadata": {},
   "outputs": [
    {
     "data": {
      "text/plain": [
       "[Document(metadata={'source': '../data/Meta AI.pdf', 'page': 0}, page_content=\"DatahandlingmethodsofMeta\\nService Meta\\nObject Storage Haystack\\nRelational Database MetaRDS\\nNoSQLDatabase Cassandra\\nMessaging Kafka\\nBlockchain Libra\\nHereareone-lineexplanationsforeachofMeta'sdatahandlingmethods\\n1. ObjectStorage(Haystack):Ahighlyscalable, fault-tolerant storagesystemforlargefilesandobjects.2. . RelationalDatabase(MetaRDS):Amanagedrelational databaseserviceforstructureddata, basedonMySQLandPostgreSQL.3. . NoSQLDatabase(Cassandra):Adistributed, open-sourceNoSQLdatabaseforhandlinglargeamountsof unstructuredorsemi-structureddata.4. . Messaging(Kafka):Adistributedstreamingplatformforhigh-throughput, fault-tolerantdataprocessingandevent-drivenarchitecture.5. . Blockchain(Libra): Adecentralized, open-sourceblockchainplatformforsecure,transparent, andscalabledatamanagement.ThesedatahandlingmethodsenableMetatoefficientlymanageandprocessvast amountsofdataacrossitsservices.\"),\n",
       " Document(metadata={'source': '../data/Meta AI.pdf', 'page': 1}, page_content='AIservicesprovidedbyMeta\\n1. Opensourceservices:a. LLaMA(LargeLanguageModel MetaAI): Anopen-sourcelargelanguagemodel.b. PyTorch: Anopen-sourcemachinelearninglibrary.c. FAIR(FacebookAI Research): Open-sourceAI researchandmodels.d. Detectron2: Object detectionandsegmentation.e. ParlAI: Conversational AI framework.\\nHerearetheusecasesforeach:\\nLLaMA● UseCases:Chatbots: Human-likeconversations.LanguageTranslation: Accuratetext translation.Content Creation: Automatedwriting.Sentiment Analysis: Emotiondetection.Text Summarization: Condensinglongtexts.● Benefits:Enhancedlanguageunderstanding.Improvedaccuracy.Increasedefficiency.Customizable.● Industries:CustomerService.Marketing.Healthcare.Education.\\nPyTorch● UseCases:ImageClassification: Object recognition.Natural LanguageProcessing(NLP): Text analysis.SpeechRecognition: Voice-to-text.Reinforcement Learning: Autonomoussystems.● Benefits:Rapidprototyping.Dynamiccomputationgraphs.Modulararchitecture.'),\n",
       " Document(metadata={'source': '../data/Meta AI.pdf', 'page': 2}, page_content='Communitysupport.● Industries:ComputerVision.AutonomousVehicles.Healthcare.Finance.\\nFAIR● UseCases:Research: AdvancingAI state-of-the-art.Model Development: CreatingcustomAI models.Education: TeachingAI concepts.● Benefits:Open-source.Collaborative.Cutting-edgeresearch.Community-driven.● Industries:Academia.ResearchInstitutions.AI Development.\\nDetectron2● UseCases:Object Detection: Identifyingobjects.Segmentation: Imagemasking.Tracking: Object movement analysis.● Benefits:Highaccuracy.Real-timeprocessing.Flexibility.Scalability.● Industries:AutonomousVehicles.Surveillance.Healthcare.Robotics.'),\n",
       " Document(metadata={'source': '../data/Meta AI.pdf', 'page': 3}, page_content=\"ParlAI● UseCases:Chatbots: Conversational interfaces.Virtual Assistants: AI-poweredsupport.CustomerService: Automatedsupport.● Benefits:Improveduserexperience.Enhancedengagement.Increasedefficiency.Customizable.● Industries:CustomerService.Marketing.Healthcare.Education.\\n2. Paidservices:a. MetaAI Studio: Apaidplatformforcreating, sharing, anddiscoveringAIs.b. MetaAI APIs: PaidAPIsfortext, image, andvideoanalysis.c. MetaQuest Pro: ApaidVRheadset withAI-poweredfeatures.d. Workplace: ApaidcollaborationplatformwithAI-driventools.\\nDeploymentServicesprovidebyMeta\\nMetadoesnot offerstandalonepublicdeployment serviceslikeAWSorGoogleCloud.However, it doesprovideseveral toolsandframeworksthat canfacilitatethedeployment ofAI modelsandapplications, particularlywithinitsecosystem. Someof theseinclude:\\n1. PyTorch: Anopen-sourcemachinelearninglibrarythat supportsmodel traininganddeployment, widelyusedforresearchandproduction.\\n2. TorchServe: Amodel servingframeworkfordeployingPyTorchmodels, allowingdeveloperstoeasilymanageandscaletheirAI applications.\\n3. Facebook'sDeployment Tools: Whilenot public, Metausesitsowninfrastructureandtoolsfordeployingapplicationsandservicesat scale.\"),\n",
       " Document(metadata={'source': '../data/Meta AI.pdf', 'page': 4}, page_content=\"4. DeveloperAPIs: MetaprovidesAPIsforintegratingAI functionalitiesintoapps,whichcanhelpwithdeployment withintheirplatforms.\\nMetaDeveloperAPIsPricing\\nMeta'sdeveloperAPIsofferamixof freeandpaidplans, dependingonthespecificAPI, usage,andrequirements. Here'sageneral outline:1. FreeTier:Limitedrequestsperday/month(variesbyAPI).Basicfeaturesandsupport.2. PaidPlans:a. MetaAI APIsText Analysis: $0.0005-$0.005perrequest.ImageAnalysis: $0.005-$0.05perrequest.VideoAnalysis: $0.01-$0.1perrequest.b. MetaCloudAPIsCloudFunctions: $0.000004-$0.004perinvocation.CloudStorage: $0.01-$0.1perGB-month.c. MetaPlatformAPIsFacebookAPI: Free-$0.005perrequest.InstagramAPI: Free-$0.005perrequest.\\nPricingFactors:1. Request volume.2. Datastorage.3. Computeresources.4. Support levels.\\n● Pleasenotethat pricesmayvarydependingon:1. Location.2. Industry.3. Specificusecases.4. Customagreements.\\nOLLaMA:\\nOllamastandsfor(Omni-LayerLearningLanguageAcquisitionModel), anovel approachtomachinelearningthat promisestoredefinehowweperceivelanguageacquisitionandnaturallanguageprocessing. At itscore, Ollamaisagroundbreakingplatformthat democratizesaccesstolargelanguagemodels(LLMs)byenablinguserstorunthemlocallyontheirmachines.Developedwithavisiontoempowerindividualsandorganizations, Ollamaprovidesa\"),\n",
       " Document(metadata={'source': '../data/Meta AI.pdf', 'page': 5}, page_content='user-friendlyinterfaceandseamlessintegrationcapabilities, makingit easierthanevertoleveragethepowerof LLMsforvariousapplicationsandusecases.\\nHerearesomeexamplemodelsthat canbedownloaded:\\n'),\n",
       " Document(metadata={'source': '../data/Meta AI.pdf', 'page': 6}, page_content='PerformanceComparison:\\n')]"
      ]
     },
     "execution_count": 5,
     "metadata": {},
     "output_type": "execute_result"
    }
   ],
   "source": [
    "documents"
   ]
  },
  {
   "cell_type": "code",
   "execution_count": 6,
   "metadata": {},
   "outputs": [],
   "source": [
    "from langchain.text_splitter import RecursiveCharacterTextSplitter"
   ]
  },
  {
   "cell_type": "code",
   "execution_count": 7,
   "metadata": {},
   "outputs": [],
   "source": [
    "splitter = RecursiveCharacterTextSplitter(chunk_size = 1000, chunk_overlap = 100)"
   ]
  },
  {
   "cell_type": "code",
   "execution_count": 8,
   "metadata": {},
   "outputs": [
    {
     "data": {
      "text/plain": [
       "<langchain_text_splitters.character.RecursiveCharacterTextSplitter at 0x1bd13f77560>"
      ]
     },
     "execution_count": 8,
     "metadata": {},
     "output_type": "execute_result"
    }
   ],
   "source": [
    "splitter"
   ]
  },
  {
   "cell_type": "code",
   "execution_count": 9,
   "metadata": {},
   "outputs": [],
   "source": [
    "chunk_documents = splitter.split_documents(documents)"
   ]
  },
  {
   "cell_type": "code",
   "execution_count": 10,
   "metadata": {},
   "outputs": [
    {
     "data": {
      "text/plain": [
       "[Document(metadata={'source': '../data/Meta AI.pdf', 'page': 0}, page_content=\"DatahandlingmethodsofMeta\\nService Meta\\nObject Storage Haystack\\nRelational Database MetaRDS\\nNoSQLDatabase Cassandra\\nMessaging Kafka\\nBlockchain Libra\\nHereareone-lineexplanationsforeachofMeta'sdatahandlingmethods\\n1. ObjectStorage(Haystack):Ahighlyscalable, fault-tolerant storagesystemforlargefilesandobjects.2. . RelationalDatabase(MetaRDS):Amanagedrelational databaseserviceforstructureddata, basedonMySQLandPostgreSQL.3. . NoSQLDatabase(Cassandra):Adistributed, open-sourceNoSQLdatabaseforhandlinglargeamountsof unstructuredorsemi-structureddata.4. . Messaging(Kafka):Adistributedstreamingplatformforhigh-throughput, fault-tolerantdataprocessingandevent-drivenarchitecture.5. . Blockchain(Libra): Adecentralized, open-sourceblockchainplatformforsecure,transparent, andscalabledatamanagement.ThesedatahandlingmethodsenableMetatoefficientlymanageandprocessvast amountsofdataacrossitsservices.\"),\n",
       " Document(metadata={'source': '../data/Meta AI.pdf', 'page': 1}, page_content='AIservicesprovidedbyMeta\\n1. Opensourceservices:a. LLaMA(LargeLanguageModel MetaAI): Anopen-sourcelargelanguagemodel.b. PyTorch: Anopen-sourcemachinelearninglibrary.c. FAIR(FacebookAI Research): Open-sourceAI researchandmodels.d. Detectron2: Object detectionandsegmentation.e. ParlAI: Conversational AI framework.\\nHerearetheusecasesforeach:\\nLLaMA● UseCases:Chatbots: Human-likeconversations.LanguageTranslation: Accuratetext translation.Content Creation: Automatedwriting.Sentiment Analysis: Emotiondetection.Text Summarization: Condensinglongtexts.● Benefits:Enhancedlanguageunderstanding.Improvedaccuracy.Increasedefficiency.Customizable.● Industries:CustomerService.Marketing.Healthcare.Education.\\nPyTorch● UseCases:ImageClassification: Object recognition.Natural LanguageProcessing(NLP): Text analysis.SpeechRecognition: Voice-to-text.Reinforcement Learning: Autonomoussystems.● Benefits:Rapidprototyping.Dynamiccomputationgraphs.Modulararchitecture.'),\n",
       " Document(metadata={'source': '../data/Meta AI.pdf', 'page': 2}, page_content='Communitysupport.● Industries:ComputerVision.AutonomousVehicles.Healthcare.Finance.\\nFAIR● UseCases:Research: AdvancingAI state-of-the-art.Model Development: CreatingcustomAI models.Education: TeachingAI concepts.● Benefits:Open-source.Collaborative.Cutting-edgeresearch.Community-driven.● Industries:Academia.ResearchInstitutions.AI Development.\\nDetectron2● UseCases:Object Detection: Identifyingobjects.Segmentation: Imagemasking.Tracking: Object movement analysis.● Benefits:Highaccuracy.Real-timeprocessing.Flexibility.Scalability.● Industries:AutonomousVehicles.Surveillance.Healthcare.Robotics.'),\n",
       " Document(metadata={'source': '../data/Meta AI.pdf', 'page': 3}, page_content='ParlAI● UseCases:Chatbots: Conversational interfaces.Virtual Assistants: AI-poweredsupport.CustomerService: Automatedsupport.● Benefits:Improveduserexperience.Enhancedengagement.Increasedefficiency.Customizable.● Industries:CustomerService.Marketing.Healthcare.Education.\\n2. Paidservices:a. MetaAI Studio: Apaidplatformforcreating, sharing, anddiscoveringAIs.b. MetaAI APIs: PaidAPIsfortext, image, andvideoanalysis.c. MetaQuest Pro: ApaidVRheadset withAI-poweredfeatures.d. Workplace: ApaidcollaborationplatformwithAI-driventools.\\nDeploymentServicesprovidebyMeta\\nMetadoesnot offerstandalonepublicdeployment serviceslikeAWSorGoogleCloud.However, it doesprovideseveral toolsandframeworksthat canfacilitatethedeployment ofAI modelsandapplications, particularlywithinitsecosystem. Someof theseinclude:\\n1. PyTorch: Anopen-sourcemachinelearninglibrarythat supportsmodel traininganddeployment, widelyusedforresearchandproduction.'),\n",
       " Document(metadata={'source': '../data/Meta AI.pdf', 'page': 3}, page_content=\"2. TorchServe: Amodel servingframeworkfordeployingPyTorchmodels, allowingdeveloperstoeasilymanageandscaletheirAI applications.\\n3. Facebook'sDeployment Tools: Whilenot public, Metausesitsowninfrastructureandtoolsfordeployingapplicationsandservicesat scale.\"),\n",
       " Document(metadata={'source': '../data/Meta AI.pdf', 'page': 4}, page_content=\"4. DeveloperAPIs: MetaprovidesAPIsforintegratingAI functionalitiesintoapps,whichcanhelpwithdeployment withintheirplatforms.\\nMetaDeveloperAPIsPricing\\nMeta'sdeveloperAPIsofferamixof freeandpaidplans, dependingonthespecificAPI, usage,andrequirements. Here'sageneral outline:1. FreeTier:Limitedrequestsperday/month(variesbyAPI).Basicfeaturesandsupport.2. PaidPlans:a. MetaAI APIsText Analysis: $0.0005-$0.005perrequest.ImageAnalysis: $0.005-$0.05perrequest.VideoAnalysis: $0.01-$0.1perrequest.b. MetaCloudAPIsCloudFunctions: $0.000004-$0.004perinvocation.CloudStorage: $0.01-$0.1perGB-month.c. MetaPlatformAPIsFacebookAPI: Free-$0.005perrequest.InstagramAPI: Free-$0.005perrequest.\\nPricingFactors:1. Request volume.2. Datastorage.3. Computeresources.4. Support levels.\\n● Pleasenotethat pricesmayvarydependingon:1. Location.2. Industry.3. Specificusecases.4. Customagreements.\\nOLLaMA:\"),\n",
       " Document(metadata={'source': '../data/Meta AI.pdf', 'page': 4}, page_content='OLLaMA:\\nOllamastandsfor(Omni-LayerLearningLanguageAcquisitionModel), anovel approachtomachinelearningthat promisestoredefinehowweperceivelanguageacquisitionandnaturallanguageprocessing. At itscore, Ollamaisagroundbreakingplatformthat democratizesaccesstolargelanguagemodels(LLMs)byenablinguserstorunthemlocallyontheirmachines.Developedwithavisiontoempowerindividualsandorganizations, Ollamaprovidesa'),\n",
       " Document(metadata={'source': '../data/Meta AI.pdf', 'page': 5}, page_content='user-friendlyinterfaceandseamlessintegrationcapabilities, makingit easierthanevertoleveragethepowerof LLMsforvariousapplicationsandusecases.\\nHerearesomeexamplemodelsthat canbedownloaded:'),\n",
       " Document(metadata={'source': '../data/Meta AI.pdf', 'page': 6}, page_content='PerformanceComparison:')]"
      ]
     },
     "execution_count": 10,
     "metadata": {},
     "output_type": "execute_result"
    }
   ],
   "source": [
    "chunk_documents"
   ]
  },
  {
   "cell_type": "code",
   "execution_count": 11,
   "metadata": {},
   "outputs": [],
   "source": [
    "from langchain.vectorstores import FAISS"
   ]
  },
  {
   "cell_type": "code",
   "execution_count": 14,
   "metadata": {},
   "outputs": [],
   "source": [
    "from langchain_ollama import OllamaEmbeddings"
   ]
  },
  {
   "cell_type": "code",
   "execution_count": 23,
   "metadata": {},
   "outputs": [],
   "source": [
    "embeddings = OllamaEmbeddings(\n",
    "    model=\"llama3.2:1b\",\n",
    ")"
   ]
  },
  {
   "cell_type": "code",
   "execution_count": 25,
   "metadata": {},
   "outputs": [],
   "source": [
    "db = FAISS.from_documents(chunk_documents, embedding=embeddings)"
   ]
  },
  {
   "cell_type": "code",
   "execution_count": 29,
   "metadata": {},
   "outputs": [],
   "source": [
    "from langchain_ollama.llms import OllamaLLM"
   ]
  },
  {
   "cell_type": "code",
   "execution_count": 30,
   "metadata": {},
   "outputs": [],
   "source": [
    "llm = OllamaLLM(model = 'llama3.2:1b')"
   ]
  },
  {
   "cell_type": "code",
   "execution_count": 31,
   "metadata": {},
   "outputs": [],
   "source": [
    "from langchain_core.prompts import ChatPromptTemplate"
   ]
  },
  {
   "cell_type": "code",
   "execution_count": 41,
   "metadata": {},
   "outputs": [],
   "source": [
    "prompt = ChatPromptTemplate.from_template(\"\"\"\n",
    "                                        Answer the user's question by only using the given context.\n",
    "                                        <context>\n",
    "                                          {context}\n",
    "                                        </context>\n",
    "                                          Question: {input}\n",
    "\"\"\")"
   ]
  },
  {
   "cell_type": "code",
   "execution_count": 42,
   "metadata": {},
   "outputs": [],
   "source": [
    "from langchain.chains.combine_documents import create_stuff_documents_chain"
   ]
  },
  {
   "cell_type": "code",
   "execution_count": 43,
   "metadata": {},
   "outputs": [],
   "source": [
    "document_chain = create_stuff_documents_chain(llm, prompt)"
   ]
  },
  {
   "cell_type": "code",
   "execution_count": 44,
   "metadata": {},
   "outputs": [],
   "source": [
    "retriever = db.as_retriever()"
   ]
  },
  {
   "cell_type": "code",
   "execution_count": 45,
   "metadata": {},
   "outputs": [
    {
     "data": {
      "text/plain": [
       "VectorStoreRetriever(tags=['FAISS', 'OllamaEmbeddings'], vectorstore=<langchain_community.vectorstores.faiss.FAISS object at 0x000001BD3DE9A930>, search_kwargs={})"
      ]
     },
     "execution_count": 45,
     "metadata": {},
     "output_type": "execute_result"
    }
   ],
   "source": [
    "retriever"
   ]
  },
  {
   "cell_type": "code",
   "execution_count": 46,
   "metadata": {},
   "outputs": [],
   "source": [
    "from langchain.chains.retrieval import create_retrieval_chain"
   ]
  },
  {
   "cell_type": "code",
   "execution_count": 47,
   "metadata": {},
   "outputs": [],
   "source": [
    "retriever_chain = create_retrieval_chain(retriever, document_chain)"
   ]
  },
  {
   "cell_type": "code",
   "execution_count": 51,
   "metadata": {},
   "outputs": [],
   "source": [
    "response = retriever_chain.invoke({\"input\": \"what is the LLM model provided my meta\"})"
   ]
  },
  {
   "cell_type": "code",
   "execution_count": 52,
   "metadata": {},
   "outputs": [
    {
     "data": {
      "text/plain": [
       "{'input': 'what is the LLM model provided my meta',\n",
       " 'context': [Document(metadata={'source': '../data/Meta AI.pdf', 'page': 6}, page_content='PerformanceComparison:'),\n",
       "  Document(metadata={'source': '../data/Meta AI.pdf', 'page': 4}, page_content='OLLaMA:\\nOllamastandsfor(Omni-LayerLearningLanguageAcquisitionModel), anovel approachtomachinelearningthat promisestoredefinehowweperceivelanguageacquisitionandnaturallanguageprocessing. At itscore, Ollamaisagroundbreakingplatformthat democratizesaccesstolargelanguagemodels(LLMs)byenablinguserstorunthemlocallyontheirmachines.Developedwithavisiontoempowerindividualsandorganizations, Ollamaprovidesa'),\n",
       "  Document(metadata={'source': '../data/Meta AI.pdf', 'page': 5}, page_content='user-friendlyinterfaceandseamlessintegrationcapabilities, makingit easierthanevertoleveragethepowerof LLMsforvariousapplicationsandusecases.\\nHerearesomeexamplemodelsthat canbedownloaded:'),\n",
       "  Document(metadata={'source': '../data/Meta AI.pdf', 'page': 4}, page_content=\"4. DeveloperAPIs: MetaprovidesAPIsforintegratingAI functionalitiesintoapps,whichcanhelpwithdeployment withintheirplatforms.\\nMetaDeveloperAPIsPricing\\nMeta'sdeveloperAPIsofferamixof freeandpaidplans, dependingonthespecificAPI, usage,andrequirements. Here'sageneral outline:1. FreeTier:Limitedrequestsperday/month(variesbyAPI).Basicfeaturesandsupport.2. PaidPlans:a. MetaAI APIsText Analysis: $0.0005-$0.005perrequest.ImageAnalysis: $0.005-$0.05perrequest.VideoAnalysis: $0.01-$0.1perrequest.b. MetaCloudAPIsCloudFunctions: $0.000004-$0.004perinvocation.CloudStorage: $0.01-$0.1perGB-month.c. MetaPlatformAPIsFacebookAPI: Free-$0.005perrequest.InstagramAPI: Free-$0.005perrequest.\\nPricingFactors:1. Request volume.2. Datastorage.3. Computeresources.4. Support levels.\\n● Pleasenotethat pricesmayvarydependingon:1. Location.2. Industry.3. Specificusecases.4. Customagreements.\\nOLLaMA:\")],\n",
       " 'answer': \"You've asked about OLLaMA, a novel approach to machine learning that promises to redefine how we perceive language acquisition and natural language processing. Specifically, you want to know more about the OLLaMA model itself.\"}"
      ]
     },
     "execution_count": 52,
     "metadata": {},
     "output_type": "execute_result"
    }
   ],
   "source": [
    "response"
   ]
  },
  {
   "cell_type": "code",
   "execution_count": 53,
   "metadata": {},
   "outputs": [
    {
     "data": {
      "text/plain": [
       "\"You've asked about OLLaMA, a novel approach to machine learning that promises to redefine how we perceive language acquisition and natural language processing. Specifically, you want to know more about the OLLaMA model itself.\""
      ]
     },
     "execution_count": 53,
     "metadata": {},
     "output_type": "execute_result"
    }
   ],
   "source": [
    "response['answer']"
   ]
  },
  {
   "cell_type": "code",
   "execution_count": null,
   "metadata": {},
   "outputs": [],
   "source": []
  }
 ],
 "metadata": {
  "kernelspec": {
   "display_name": "my_env",
   "language": "python",
   "name": "python3"
  },
  "language_info": {
   "codemirror_mode": {
    "name": "ipython",
    "version": 3
   },
   "file_extension": ".py",
   "mimetype": "text/x-python",
   "name": "python",
   "nbconvert_exporter": "python",
   "pygments_lexer": "ipython3",
   "version": "3.12.4"
  }
 },
 "nbformat": 4,
 "nbformat_minor": 2
}
