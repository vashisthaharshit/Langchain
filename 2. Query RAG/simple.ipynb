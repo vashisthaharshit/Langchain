{
 "cells": [
  {
   "cell_type": "code",
   "execution_count": 2,
   "metadata": {},
   "outputs": [],
   "source": [
    "from langchain_community.document_loaders import TextLoader"
   ]
  },
  {
   "cell_type": "code",
   "execution_count": 5,
   "metadata": {},
   "outputs": [],
   "source": [
    "loader = TextLoader('./data/data.txt')"
   ]
  },
  {
   "cell_type": "code",
   "execution_count": 6,
   "metadata": {},
   "outputs": [],
   "source": [
    "text_documents = loader.load()"
   ]
  },
  {
   "cell_type": "code",
   "execution_count": 7,
   "metadata": {},
   "outputs": [
    {
     "data": {
      "text/plain": [
       "[Document(metadata={'source': './data/data.txt'}, page_content='Large Language Models (LLMs) are a class of artificial intelligence models designed to understand, generate, and manipulate human language. Powered by deep learning techniques, these models are trained on vast amounts of text data, enabling them to generate coherent and contextually relevant text based on the input they receive.\\n\\nThe architecture of LLMs typically involves deep neural networks, particularly transformers, which excel at capturing the complexities of language. These models are \"large\" because they have millions, or even billions, of parametersâ€”essentially, the learned weights that determine how input data is processed. The more parameters a model has, the more nuanced its understanding and generation of language becomes.\\n\\nPopular LLMs, such as OpenAIâ€™s GPT (Generative Pretrained Transformer), Google\\'s BERT, and Metaâ€™s LLaMA, have revolutionized fields like natural language processing (NLP), making tasks like machine translation, content generation, and sentiment analysis more efficient and accurate. By processing extensive corpora of text, these models can learn grammar, facts about the world, reasoning patterns, and even style.\\n\\nLLMs are versatile and can be applied across various domains. In customer service, they power chatbots capable of answering questions and providing assistance. In content creation, they can write articles, compose poetry, or help with brainstorming ideas. They also find use in academic research, where they assist in data analysis or even summarize lengthy texts.\\n\\nDespite their impressive capabilities, LLMs are not without limitations. They sometimes generate biased or factually incorrect content due to the biases present in the data they were trained on. Furthermore, they require significant computational resources for both training and deployment, making them expensive to develop and operate.\\n\\nAs LLM technology continues to evolve, it holds the potential to transform industries, making human-computer interactions more intuitive and efficient. However, addressing the ethical and technical challenges will be crucial for their responsible use in society.')]"
      ]
     },
     "execution_count": 7,
     "metadata": {},
     "output_type": "execute_result"
    }
   ],
   "source": [
    "text_documents"
   ]
  },
  {
   "cell_type": "code",
   "execution_count": 8,
   "metadata": {},
   "outputs": [],
   "source": [
    "from langchain_community.document_loaders import PyPDFLoader"
   ]
  },
  {
   "cell_type": "code",
   "execution_count": 9,
   "metadata": {},
   "outputs": [],
   "source": [
    "loader = PyPDFLoader('./data/Meta AI.pdf')"
   ]
  },
  {
   "cell_type": "code",
   "execution_count": 10,
   "metadata": {},
   "outputs": [],
   "source": [
    "pdf_documents = loader.load()"
   ]
  },
  {
   "cell_type": "code",
   "execution_count": 11,
   "metadata": {},
   "outputs": [
    {
     "data": {
      "text/plain": [
       "[Document(metadata={'source': './data/Meta AI.pdf', 'page': 0}, page_content=\"DatahandlingmethodsofMeta\\nService Meta\\nObject Storage Haystack\\nRelational Database MetaRDS\\nNoSQLDatabase Cassandra\\nMessaging Kafka\\nBlockchain Libra\\nHereareone-lineexplanationsforeachofMeta'sdatahandlingmethods\\n1. ObjectStorage(Haystack):Ahighlyscalable, fault-tolerant storagesystemforlargefilesandobjects.2. . RelationalDatabase(MetaRDS):Amanagedrelational databaseserviceforstructureddata, basedonMySQLandPostgreSQL.3. . NoSQLDatabase(Cassandra):Adistributed, open-sourceNoSQLdatabaseforhandlinglargeamountsof unstructuredorsemi-structureddata.4. . Messaging(Kafka):Adistributedstreamingplatformforhigh-throughput, fault-tolerantdataprocessingandevent-drivenarchitecture.5. . Blockchain(Libra): Adecentralized, open-sourceblockchainplatformforsecure,transparent, andscalabledatamanagement.ThesedatahandlingmethodsenableMetatoefficientlymanageandprocessvast amountsofdataacrossitsservices.\"),\n",
       " Document(metadata={'source': './data/Meta AI.pdf', 'page': 1}, page_content='AIservicesprovidedbyMeta\\n1. Opensourceservices:a. LLaMA(LargeLanguageModel MetaAI): Anopen-sourcelargelanguagemodel.b. PyTorch: Anopen-sourcemachinelearninglibrary.c. FAIR(FacebookAI Research): Open-sourceAI researchandmodels.d. Detectron2: Object detectionandsegmentation.e. ParlAI: Conversational AI framework.\\nHerearetheusecasesforeach:\\nLLaMA● UseCases:Chatbots: Human-likeconversations.LanguageTranslation: Accuratetext translation.Content Creation: Automatedwriting.Sentiment Analysis: Emotiondetection.Text Summarization: Condensinglongtexts.● Benefits:Enhancedlanguageunderstanding.Improvedaccuracy.Increasedefficiency.Customizable.● Industries:CustomerService.Marketing.Healthcare.Education.\\nPyTorch● UseCases:ImageClassification: Object recognition.Natural LanguageProcessing(NLP): Text analysis.SpeechRecognition: Voice-to-text.Reinforcement Learning: Autonomoussystems.● Benefits:Rapidprototyping.Dynamiccomputationgraphs.Modulararchitecture.'),\n",
       " Document(metadata={'source': './data/Meta AI.pdf', 'page': 2}, page_content='Communitysupport.● Industries:ComputerVision.AutonomousVehicles.Healthcare.Finance.\\nFAIR● UseCases:Research: AdvancingAI state-of-the-art.Model Development: CreatingcustomAI models.Education: TeachingAI concepts.● Benefits:Open-source.Collaborative.Cutting-edgeresearch.Community-driven.● Industries:Academia.ResearchInstitutions.AI Development.\\nDetectron2● UseCases:Object Detection: Identifyingobjects.Segmentation: Imagemasking.Tracking: Object movement analysis.● Benefits:Highaccuracy.Real-timeprocessing.Flexibility.Scalability.● Industries:AutonomousVehicles.Surveillance.Healthcare.Robotics.'),\n",
       " Document(metadata={'source': './data/Meta AI.pdf', 'page': 3}, page_content=\"ParlAI● UseCases:Chatbots: Conversational interfaces.Virtual Assistants: AI-poweredsupport.CustomerService: Automatedsupport.● Benefits:Improveduserexperience.Enhancedengagement.Increasedefficiency.Customizable.● Industries:CustomerService.Marketing.Healthcare.Education.\\n2. Paidservices:a. MetaAI Studio: Apaidplatformforcreating, sharing, anddiscoveringAIs.b. MetaAI APIs: PaidAPIsfortext, image, andvideoanalysis.c. MetaQuest Pro: ApaidVRheadset withAI-poweredfeatures.d. Workplace: ApaidcollaborationplatformwithAI-driventools.\\nDeploymentServicesprovidebyMeta\\nMetadoesnot offerstandalonepublicdeployment serviceslikeAWSorGoogleCloud.However, it doesprovideseveral toolsandframeworksthat canfacilitatethedeployment ofAI modelsandapplications, particularlywithinitsecosystem. Someof theseinclude:\\n1. PyTorch: Anopen-sourcemachinelearninglibrarythat supportsmodel traininganddeployment, widelyusedforresearchandproduction.\\n2. TorchServe: Amodel servingframeworkfordeployingPyTorchmodels, allowingdeveloperstoeasilymanageandscaletheirAI applications.\\n3. Facebook'sDeployment Tools: Whilenot public, Metausesitsowninfrastructureandtoolsfordeployingapplicationsandservicesat scale.\"),\n",
       " Document(metadata={'source': './data/Meta AI.pdf', 'page': 4}, page_content=\"4. DeveloperAPIs: MetaprovidesAPIsforintegratingAI functionalitiesintoapps,whichcanhelpwithdeployment withintheirplatforms.\\nMetaDeveloperAPIsPricing\\nMeta'sdeveloperAPIsofferamixof freeandpaidplans, dependingonthespecificAPI, usage,andrequirements. Here'sageneral outline:1. FreeTier:Limitedrequestsperday/month(variesbyAPI).Basicfeaturesandsupport.2. PaidPlans:a. MetaAI APIsText Analysis: $0.0005-$0.005perrequest.ImageAnalysis: $0.005-$0.05perrequest.VideoAnalysis: $0.01-$0.1perrequest.b. MetaCloudAPIsCloudFunctions: $0.000004-$0.004perinvocation.CloudStorage: $0.01-$0.1perGB-month.c. MetaPlatformAPIsFacebookAPI: Free-$0.005perrequest.InstagramAPI: Free-$0.005perrequest.\\nPricingFactors:1. Request volume.2. Datastorage.3. Computeresources.4. Support levels.\\n● Pleasenotethat pricesmayvarydependingon:1. Location.2. Industry.3. Specificusecases.4. Customagreements.\\nOLLaMA:\\nOllamastandsfor(Omni-LayerLearningLanguageAcquisitionModel), anovel approachtomachinelearningthat promisestoredefinehowweperceivelanguageacquisitionandnaturallanguageprocessing. At itscore, Ollamaisagroundbreakingplatformthat democratizesaccesstolargelanguagemodels(LLMs)byenablinguserstorunthemlocallyontheirmachines.Developedwithavisiontoempowerindividualsandorganizations, Ollamaprovidesa\"),\n",
       " Document(metadata={'source': './data/Meta AI.pdf', 'page': 5}, page_content='user-friendlyinterfaceandseamlessintegrationcapabilities, makingit easierthanevertoleveragethepowerof LLMsforvariousapplicationsandusecases.\\nHerearesomeexamplemodelsthat canbedownloaded:\\n'),\n",
       " Document(metadata={'source': './data/Meta AI.pdf', 'page': 6}, page_content='PerformanceComparison:\\n')]"
      ]
     },
     "execution_count": 11,
     "metadata": {},
     "output_type": "execute_result"
    }
   ],
   "source": [
    "pdf_documents"
   ]
  },
  {
   "cell_type": "code",
   "execution_count": 12,
   "metadata": {},
   "outputs": [],
   "source": [
    "from langchain.text_splitter import RecursiveCharacterTextSplitter"
   ]
  },
  {
   "cell_type": "code",
   "execution_count": 49,
   "metadata": {},
   "outputs": [],
   "source": [
    "text_splitter = RecursiveCharacterTextSplitter(chunk_size = 500, chunk_overlap = 80)"
   ]
  },
  {
   "cell_type": "code",
   "execution_count": 50,
   "metadata": {},
   "outputs": [],
   "source": [
    "documents = text_splitter.split_documents(pdf_documents)"
   ]
  },
  {
   "cell_type": "code",
   "execution_count": 51,
   "metadata": {},
   "outputs": [
    {
     "data": {
      "text/plain": [
       "[Document(metadata={'source': './data/Meta AI.pdf', 'page': 0}, page_content=\"DatahandlingmethodsofMeta\\nService Meta\\nObject Storage Haystack\\nRelational Database MetaRDS\\nNoSQLDatabase Cassandra\\nMessaging Kafka\\nBlockchain Libra\\nHereareone-lineexplanationsforeachofMeta'sdatahandlingmethods\"),\n",
       " Document(metadata={'source': './data/Meta AI.pdf', 'page': 0}, page_content='1. ObjectStorage(Haystack):Ahighlyscalable, fault-tolerant storagesystemforlargefilesandobjects.2. . RelationalDatabase(MetaRDS):Amanagedrelational databaseserviceforstructureddata, basedonMySQLandPostgreSQL.3. . NoSQLDatabase(Cassandra):Adistributed, open-sourceNoSQLdatabaseforhandlinglargeamountsof unstructuredorsemi-structureddata.4. . Messaging(Kafka):Adistributedstreamingplatformforhigh-throughput, fault-tolerantdataprocessingandevent-drivenarchitecture.5. . Blockchain(Libra):'),\n",
       " Document(metadata={'source': './data/Meta AI.pdf', 'page': 0}, page_content='fault-tolerantdataprocessingandevent-drivenarchitecture.5. . Blockchain(Libra): Adecentralized, open-sourceblockchainplatformforsecure,transparent, andscalabledatamanagement.ThesedatahandlingmethodsenableMetatoefficientlymanageandprocessvast amountsofdataacrossitsservices.'),\n",
       " Document(metadata={'source': './data/Meta AI.pdf', 'page': 1}, page_content='AIservicesprovidedbyMeta\\n1. Opensourceservices:a. LLaMA(LargeLanguageModel MetaAI): Anopen-sourcelargelanguagemodel.b. PyTorch: Anopen-sourcemachinelearninglibrary.c. FAIR(FacebookAI Research): Open-sourceAI researchandmodels.d. Detectron2: Object detectionandsegmentation.e. ParlAI: Conversational AI framework.\\nHerearetheusecasesforeach:'),\n",
       " Document(metadata={'source': './data/Meta AI.pdf', 'page': 1}, page_content='Herearetheusecasesforeach:\\nLLaMA● UseCases:Chatbots: Human-likeconversations.LanguageTranslation: Accuratetext translation.Content Creation: Automatedwriting.Sentiment Analysis: Emotiondetection.Text Summarization: Condensinglongtexts.● Benefits:Enhancedlanguageunderstanding.Improvedaccuracy.Increasedefficiency.Customizable.● Industries:CustomerService.Marketing.Healthcare.Education.'),\n",
       " Document(metadata={'source': './data/Meta AI.pdf', 'page': 1}, page_content='PyTorch● UseCases:ImageClassification: Object recognition.Natural LanguageProcessing(NLP): Text analysis.SpeechRecognition: Voice-to-text.Reinforcement Learning: Autonomoussystems.● Benefits:Rapidprototyping.Dynamiccomputationgraphs.Modulararchitecture.'),\n",
       " Document(metadata={'source': './data/Meta AI.pdf', 'page': 2}, page_content='Communitysupport.● Industries:ComputerVision.AutonomousVehicles.Healthcare.Finance.\\nFAIR● UseCases:Research: AdvancingAI state-of-the-art.Model Development: CreatingcustomAI models.Education: TeachingAI concepts.● Benefits:Open-source.Collaborative.Cutting-edgeresearch.Community-driven.● Industries:Academia.ResearchInstitutions.AI Development.'),\n",
       " Document(metadata={'source': './data/Meta AI.pdf', 'page': 2}, page_content='Detectron2● UseCases:Object Detection: Identifyingobjects.Segmentation: Imagemasking.Tracking: Object movement analysis.● Benefits:Highaccuracy.Real-timeprocessing.Flexibility.Scalability.● Industries:AutonomousVehicles.Surveillance.Healthcare.Robotics.'),\n",
       " Document(metadata={'source': './data/Meta AI.pdf', 'page': 3}, page_content='ParlAI● UseCases:Chatbots: Conversational interfaces.Virtual Assistants: AI-poweredsupport.CustomerService: Automatedsupport.● Benefits:Improveduserexperience.Enhancedengagement.Increasedefficiency.Customizable.● Industries:CustomerService.Marketing.Healthcare.Education.'),\n",
       " Document(metadata={'source': './data/Meta AI.pdf', 'page': 3}, page_content='2. Paidservices:a. MetaAI Studio: Apaidplatformforcreating, sharing, anddiscoveringAIs.b. MetaAI APIs: PaidAPIsfortext, image, andvideoanalysis.c. MetaQuest Pro: ApaidVRheadset withAI-poweredfeatures.d. Workplace: ApaidcollaborationplatformwithAI-driventools.\\nDeploymentServicesprovidebyMeta'),\n",
       " Document(metadata={'source': './data/Meta AI.pdf', 'page': 3}, page_content='DeploymentServicesprovidebyMeta\\nMetadoesnot offerstandalonepublicdeployment serviceslikeAWSorGoogleCloud.However, it doesprovideseveral toolsandframeworksthat canfacilitatethedeployment ofAI modelsandapplications, particularlywithinitsecosystem. Someof theseinclude:\\n1. PyTorch: Anopen-sourcemachinelearninglibrarythat supportsmodel traininganddeployment, widelyusedforresearchandproduction.'),\n",
       " Document(metadata={'source': './data/Meta AI.pdf', 'page': 3}, page_content=\"2. TorchServe: Amodel servingframeworkfordeployingPyTorchmodels, allowingdeveloperstoeasilymanageandscaletheirAI applications.\\n3. Facebook'sDeployment Tools: Whilenot public, Metausesitsowninfrastructureandtoolsfordeployingapplicationsandservicesat scale.\"),\n",
       " Document(metadata={'source': './data/Meta AI.pdf', 'page': 4}, page_content='4. DeveloperAPIs: MetaprovidesAPIsforintegratingAI functionalitiesintoapps,whichcanhelpwithdeployment withintheirplatforms.\\nMetaDeveloperAPIsPricing'),\n",
       " Document(metadata={'source': './data/Meta AI.pdf', 'page': 4}, page_content=\"Meta'sdeveloperAPIsofferamixof freeandpaidplans, dependingonthespecificAPI, usage,andrequirements. Here'sageneral outline:1. FreeTier:Limitedrequestsperday/month(variesbyAPI).Basicfeaturesandsupport.2. PaidPlans:a. MetaAI APIsText Analysis: $0.0005-$0.005perrequest.ImageAnalysis: $0.005-$0.05perrequest.VideoAnalysis: $0.01-$0.1perrequest.b. MetaCloudAPIsCloudFunctions: $0.000004-$0.004perinvocation.CloudStorage: $0.01-$0.1perGB-month.c. MetaPlatformAPIsFacebookAPI:\"),\n",
       " Document(metadata={'source': './data/Meta AI.pdf', 'page': 4}, page_content='$0.01-$0.1perGB-month.c. MetaPlatformAPIsFacebookAPI: Free-$0.005perrequest.InstagramAPI: Free-$0.005perrequest.'),\n",
       " Document(metadata={'source': './data/Meta AI.pdf', 'page': 4}, page_content='PricingFactors:1. Request volume.2. Datastorage.3. Computeresources.4. Support levels.\\n● Pleasenotethat pricesmayvarydependingon:1. Location.2. Industry.3. Specificusecases.4. Customagreements.\\nOLLaMA:'),\n",
       " Document(metadata={'source': './data/Meta AI.pdf', 'page': 4}, page_content='OLLaMA:\\nOllamastandsfor(Omni-LayerLearningLanguageAcquisitionModel), anovel approachtomachinelearningthat promisestoredefinehowweperceivelanguageacquisitionandnaturallanguageprocessing. At itscore, Ollamaisagroundbreakingplatformthat democratizesaccesstolargelanguagemodels(LLMs)byenablinguserstorunthemlocallyontheirmachines.Developedwithavisiontoempowerindividualsandorganizations, Ollamaprovidesa'),\n",
       " Document(metadata={'source': './data/Meta AI.pdf', 'page': 5}, page_content='user-friendlyinterfaceandseamlessintegrationcapabilities, makingit easierthanevertoleveragethepowerof LLMsforvariousapplicationsandusecases.\\nHerearesomeexamplemodelsthat canbedownloaded:'),\n",
       " Document(metadata={'source': './data/Meta AI.pdf', 'page': 6}, page_content='PerformanceComparison:')]"
      ]
     },
     "execution_count": 51,
     "metadata": {},
     "output_type": "execute_result"
    }
   ],
   "source": [
    "documents"
   ]
  },
  {
   "cell_type": "code",
   "execution_count": 52,
   "metadata": {},
   "outputs": [],
   "source": [
    "from langchain_community.embeddings import OllamaEmbeddings"
   ]
  },
  {
   "cell_type": "code",
   "execution_count": 53,
   "metadata": {},
   "outputs": [],
   "source": [
    "from langchain_community.vectorstores import FAISS"
   ]
  },
  {
   "cell_type": "code",
   "execution_count": 54,
   "metadata": {},
   "outputs": [],
   "source": [
    "db = FAISS.from_documents(documents, OllamaEmbeddings(model=\"llama3.2:1b\"))"
   ]
  },
  {
   "cell_type": "code",
   "execution_count": 55,
   "metadata": {},
   "outputs": [
    {
     "data": {
      "text/plain": [
       "<langchain_community.vectorstores.faiss.FAISS at 0x2e4db07d880>"
      ]
     },
     "execution_count": 55,
     "metadata": {},
     "output_type": "execute_result"
    }
   ],
   "source": [
    "db"
   ]
  },
  {
   "cell_type": "code",
   "execution_count": 56,
   "metadata": {},
   "outputs": [],
   "source": [
    "query = 'What are the AI services provided by Meta AI'\n",
    "result = db.similarity_search(query)"
   ]
  },
  {
   "cell_type": "code",
   "execution_count": 57,
   "metadata": {},
   "outputs": [],
   "source": [
    "def find_results(results):\n",
    "    ans = []\n",
    "    for result in results:\n",
    "        ans.append(result.page_content)\n",
    "    \n",
    "    ans = ' '.join(ans)\n",
    "    print(ans)"
   ]
  },
  {
   "cell_type": "code",
   "execution_count": 58,
   "metadata": {},
   "outputs": [
    {
     "name": "stdout",
     "output_type": "stream",
     "text": [
      "PerformanceComparison: 2. TorchServe: Amodel servingframeworkfordeployingPyTorchmodels, allowingdeveloperstoeasilymanageandscaletheirAI applications.\n",
      "3. Facebook'sDeployment Tools: Whilenot public, Metausesitsowninfrastructureandtoolsfordeployingapplicationsandservicesat scale. user-friendlyinterfaceandseamlessintegrationcapabilities, makingit easierthanevertoleveragethepowerof LLMsforvariousapplicationsandusecases.\n",
      "Herearesomeexamplemodelsthat canbedownloaded: PricingFactors:1. Request volume.2. Datastorage.3. Computeresources.4. Support levels.\n",
      "● Pleasenotethat pricesmayvarydependingon:1. Location.2. Industry.3. Specificusecases.4. Customagreements.\n",
      "OLLaMA:\n"
     ]
    }
   ],
   "source": [
    "find_results(result)"
   ]
  },
  {
   "cell_type": "code",
   "execution_count": null,
   "metadata": {},
   "outputs": [],
   "source": []
  }
 ],
 "metadata": {
  "kernelspec": {
   "display_name": "my_env",
   "language": "python",
   "name": "python3"
  },
  "language_info": {
   "codemirror_mode": {
    "name": "ipython",
    "version": 3
   },
   "file_extension": ".py",
   "mimetype": "text/x-python",
   "name": "python",
   "nbconvert_exporter": "python",
   "pygments_lexer": "ipython3",
   "version": "3.12.4"
  }
 },
 "nbformat": 4,
 "nbformat_minor": 2
}
